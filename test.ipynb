{
 "cells": [
  {
   "cell_type": "code",
   "execution_count": 1,
   "id": "4f4be38f",
   "metadata": {},
   "outputs": [
    {
     "name": "stderr",
     "output_type": "stream",
     "text": [
      "c:\\Users\\KaranJoshi\\Projects\\Document-Processing-Agent\\.venv\\Lib\\site-packages\\tqdm\\auto.py:21: TqdmWarning: IProgress not found. Please update jupyter and ipywidgets. See https://ipywidgets.readthedocs.io/en/stable/user_install.html\n",
      "  from .autonotebook import tqdm as notebook_tqdm\n"
     ]
    }
   ],
   "source": [
    "from dotenv import load_dotenv\n",
    "from langgraph.graph import StateGraph, START, END\n",
    "from langgraph.graph.message import add_messages\n",
    "from typing_extensions import TypedDict\n",
    "import gradio as gr"
   ]
  },
  {
   "cell_type": "code",
   "execution_count": 7,
   "id": "b51bf5c2",
   "metadata": {},
   "outputs": [
    {
     "data": {
      "text/plain": [
       "True"
      ]
     },
     "execution_count": 7,
     "metadata": {},
     "output_type": "execute_result"
    }
   ],
   "source": [
    "load_dotenv(override=True)"
   ]
  },
  {
   "cell_type": "code",
   "execution_count": 10,
   "id": "b3ebc617",
   "metadata": {},
   "outputs": [],
   "source": [
    "from typing import Annotated\n",
    "from langchain.chat_models import init_chat_model"
   ]
  },
  {
   "cell_type": "code",
   "execution_count": 9,
   "id": "04773b95",
   "metadata": {},
   "outputs": [],
   "source": [
    "import os\n",
    "\n",
    "GEMINI_BASE_URL = os.getenv(\"GEMINI_BASE_URL\")\n",
    "GEMINI_API_KEY = os.getenv(\"GEMINI_API_KEY\")\n",
    "GOOGLE_API_KEY = os.getenv(\"GOOGLE_API_KEY\")"
   ]
  },
  {
   "cell_type": "code",
   "execution_count": 5,
   "id": "1eb979ad",
   "metadata": {},
   "outputs": [],
   "source": [
    "class State(TypedDict):\n",
    "    messages: Annotated[list, add_messages]"
   ]
  },
  {
   "cell_type": "code",
   "execution_count": 6,
   "id": "9af1efe0",
   "metadata": {},
   "outputs": [],
   "source": [
    "graph_builder = StateGraph(State)"
   ]
  },
  {
   "cell_type": "code",
   "execution_count": 11,
   "id": "730d6949",
   "metadata": {},
   "outputs": [],
   "source": [
    "llm = init_chat_model(\"google_genai:gemini-2.5-flash-lite\")"
   ]
  },
  {
   "cell_type": "code",
   "execution_count": 12,
   "id": "b9acd4d8",
   "metadata": {},
   "outputs": [],
   "source": [
    "def chatbot(state: State) -> State:\n",
    "    return {\"messages\": llm.invoke(state[\"messages\"])}"
   ]
  },
  {
   "cell_type": "code",
   "execution_count": null,
   "id": "34e65c12",
   "metadata": {},
   "outputs": [],
   "source": [
    "graph_builder.add_node(\"chatbot\", chatbot)"
   ]
  },
  {
   "cell_type": "code",
   "execution_count": null,
   "id": "72f61ba0",
   "metadata": {},
   "outputs": [
    {
     "data": {
      "image/png": "[encoded data removed]",
      "text/plain": [
       "<IPython.core.display.Image object>"
      ]
     },
     "metadata": {},
     "output_type": "display_data"
    }
   ],
   "source": [
    "graph_builder.add_edge(START, \"chatbot\")\n",
    "graph_builder.add_edge(\"chatbot\", END)\n",
    "\n",
    "graph = graph_builder.compile()\n",
    "\n",
    "from IPython.display import Image, display\n",
    "\n",
    "try:\n",
    "    display(Image(graph.get_graph().draw_mermaid_png()))\n",
    "except Exception as e:\n",
    "    # This requires some extra dependencies and is optional\n",
    "    print(f\"Error: {e}\")\n",
    "    pass"
   ]
  },
  {
   "cell_type": "code",
   "execution_count": null,
   "id": "9a34de1e",
   "metadata": {},
   "outputs": [
    {
     "name": "stdout",
     "output_type": "stream",
     "text": [
      "* Running on local URL:  http://127.0.0.1:7860\n",
      "* To create a public link, set `share=True` in `launch()`.\n"
     ]
    },
    {
     "data": {
      "text/html": [
       "<div><iframe src=\"http://127.0.0.1:7860/\" width=\"100%\" height=\"500\" allow=\"autoplay; camera; microphone; clipboard-read; clipboard-write;\" frameborder=\"0\" allowfullscreen></iframe></div>"
      ],
      "text/plain": [
       "<IPython.core.display.HTML object>"
      ]
     },
     "metadata": {},
     "output_type": "display_data"
    },
    {
     "data": {
      "text/plain": []
     },
     "execution_count": 17,
     "metadata": {},
     "output_type": "execute_result"
    },
    {
     "name": "stderr",
     "output_type": "stream",
     "text": [
      "Traceback (most recent call last):\n",
      "  File \"c:\\Users\\KaranJoshi\\Projects\\Document-Processing-Agent\\.venv\\Lib\\site-packages\\langchain_core\\messages\\utils.py\", line 334, in _convert_to_message\n",
      "    msg_content = msg_kwargs.pop(\"content\") or \"\"\n",
      "                  ~~~~~~~~~~~~~~^^^^^^^^^^^\n",
      "KeyError: 'content'\n",
      "\n",
      "The above exception was the direct cause of the following exception:\n",
      "\n",
      "Traceback (most recent call last):\n",
      "  File \"c:\\Users\\KaranJoshi\\Projects\\Document-Processing-Agent\\.venv\\Lib\\site-packages\\gradio\\queueing.py\", line 626, in process_events\n",
      "    response = await route_utils.call_process_api(\n",
      "               ^^^^^^^^^^^^^^^^^^^^^^^^^^^^^^^^^^^\n",
      "    ...<5 lines>...\n",
      "    )\n",
      "    ^\n",
      "  File \"c:\\Users\\KaranJoshi\\Projects\\Document-Processing-Agent\\.venv\\Lib\\site-packages\\gradio\\route_utils.py\", line 350, in call_process_api\n",
      "    output = await app.get_blocks().process_api(\n",
      "             ^^^^^^^^^^^^^^^^^^^^^^^^^^^^^^^^^^^\n",
      "    ...<11 lines>...\n",
      "    )\n",
      "    ^\n",
      "  File \"c:\\Users\\KaranJoshi\\Projects\\Document-Processing-Agent\\.venv\\Lib\\site-packages\\gradio\\blocks.py\", line 2250, in process_api\n",
      "    result = await self.call_function(\n",
      "             ^^^^^^^^^^^^^^^^^^^^^^^^^\n",
      "    ...<8 lines>...\n",
      "    )\n",
      "    ^\n",
      "  File \"c:\\Users\\KaranJoshi\\Projects\\Document-Processing-Agent\\.venv\\Lib\\site-packages\\gradio\\blocks.py\", line 1769, in call_function\n",
      "    prediction = await utils.async_iteration(iterator)\n",
      "                 ^^^^^^^^^^^^^^^^^^^^^^^^^^^^^^^^^^^^^\n",
      "  File \"c:\\Users\\KaranJoshi\\Projects\\Document-Processing-Agent\\.venv\\Lib\\site-packages\\gradio\\utils.py\", line 762, in async_iteration\n",
      "    return await anext(iterator)\n",
      "           ^^^^^^^^^^^^^^^^^^^^^\n",
      "  File \"c:\\Users\\KaranJoshi\\Projects\\Document-Processing-Agent\\.venv\\Lib\\site-packages\\gradio\\utils.py\", line 867, in asyncgen_wrapper\n",
      "    response = await iterator.__anext__()\n",
      "               ^^^^^^^^^^^^^^^^^^^^^^^^^^\n",
      "  File \"c:\\Users\\KaranJoshi\\Projects\\Document-Processing-Agent\\.venv\\Lib\\site-packages\\gradio\\chat_interface.py\", line 543, in _wrapper\n",
      "    async for chunk in submit_fn(*args, **kwargs):\n",
      "        yield chunk\n",
      "  File \"c:\\Users\\KaranJoshi\\Projects\\Document-Processing-Agent\\.venv\\Lib\\site-packages\\gradio\\chat_interface.py\", line 959, in _stream_fn\n",
      "    first_response = await utils.async_iteration(generator)\n",
      "                     ^^^^^^^^^^^^^^^^^^^^^^^^^^^^^^^^^^^^^^\n",
      "  File \"c:\\Users\\KaranJoshi\\Projects\\Document-Processing-Agent\\.venv\\Lib\\site-packages\\gradio\\utils.py\", line 762, in async_iteration\n",
      "    return await anext(iterator)\n",
      "           ^^^^^^^^^^^^^^^^^^^^^\n",
      "  File \"c:\\Users\\KaranJoshi\\Projects\\Document-Processing-Agent\\.venv\\Lib\\site-packages\\gradio\\utils.py\", line 753, in __anext__\n",
      "    return await anyio.to_thread.run_sync(\n",
      "           ^^^^^^^^^^^^^^^^^^^^^^^^^^^^^^^\n",
      "        run_sync_iterator_async, self.iterator, limiter=self.limiter\n",
      "        ^^^^^^^^^^^^^^^^^^^^^^^^^^^^^^^^^^^^^^^^^^^^^^^^^^^^^^^^^^^^\n",
      "    )\n",
      "    ^\n",
      "  File \"c:\\Users\\KaranJoshi\\Projects\\Document-Processing-Agent\\.venv\\Lib\\site-packages\\anyio\\to_thread.py\", line 56, in run_sync\n",
      "    return await get_async_backend().run_sync_in_worker_thread(\n",
      "           ^^^^^^^^^^^^^^^^^^^^^^^^^^^^^^^^^^^^^^^^^^^^^^^^^^^^\n",
      "        func, args, abandon_on_cancel=abandon_on_cancel, limiter=limiter\n",
      "        ^^^^^^^^^^^^^^^^^^^^^^^^^^^^^^^^^^^^^^^^^^^^^^^^^^^^^^^^^^^^^^^^\n",
      "    )\n",
      "    ^\n",
      "  File \"c:\\Users\\KaranJoshi\\Projects\\Document-Processing-Agent\\.venv\\Lib\\site-packages\\anyio\\_backends\\_asyncio.py\", line 2476, in run_sync_in_worker_thread\n",
      "    return await future\n",
      "           ^^^^^^^^^^^^\n",
      "  File \"c:\\Users\\KaranJoshi\\Projects\\Document-Processing-Agent\\.venv\\Lib\\site-packages\\anyio\\_backends\\_asyncio.py\", line 967, in run\n",
      "    result = context.run(func, *args)\n",
      "  File \"c:\\Users\\KaranJoshi\\Projects\\Document-Processing-Agent\\.venv\\Lib\\site-packages\\gradio\\utils.py\", line 736, in run_sync_iterator_async\n",
      "    return next(iterator)\n",
      "  File \"C:\\Users\\KaranJoshi\\AppData\\Local\\Temp\\ipykernel_18444\\1609210223.py\", line 6, in chat\n",
      "    for message_chunk, metadata in graph.stream(initial_state, stream_mode=\"messages\"):\n",
      "                                   ~~~~~~~~~~~~^^^^^^^^^^^^^^^^^^^^^^^^^^^^^^^^^^^^^^^\n",
      "  File \"c:\\Users\\KaranJoshi\\Projects\\Document-Processing-Agent\\.venv\\Lib\\site-packages\\langgraph\\pregel\\main.py\", line 2657, in stream\n",
      "    loop.after_tick()\n",
      "    ~~~~~~~~~~~~~~~^^\n",
      "  File \"c:\\Users\\KaranJoshi\\Projects\\Document-Processing-Agent\\.venv\\Lib\\site-packages\\langgraph\\pregel\\_loop.py\", line 525, in after_tick\n",
      "    self.updated_channels = apply_writes(\n",
      "                            ~~~~~~~~~~~~^\n",
      "        self.checkpoint,\n",
      "        ^^^^^^^^^^^^^^^^\n",
      "    ...<3 lines>...\n",
      "        self.trigger_to_nodes,\n",
      "        ^^^^^^^^^^^^^^^^^^^^^^\n",
      "    )\n",
      "    ^\n",
      "  File \"c:\\Users\\KaranJoshi\\Projects\\Document-Processing-Agent\\.venv\\Lib\\site-packages\\langgraph\\pregel\\_algo.py\", line 298, in apply_writes\n",
      "    if channels[chan].update(vals) and next_version is not None:\n",
      "       ~~~~~~~~~~~~~~~~~~~~~^^^^^^\n",
      "  File \"c:\\Users\\KaranJoshi\\Projects\\Document-Processing-Agent\\.venv\\Lib\\site-packages\\langgraph\\channels\\binop.py\", line 93, in update\n",
      "    self.value = self.operator(self.value, value)\n",
      "                 ~~~~~~~~~~~~~^^^^^^^^^^^^^^^^^^^\n",
      "  File \"c:\\Users\\KaranJoshi\\Projects\\Document-Processing-Agent\\.venv\\Lib\\site-packages\\langgraph\\graph\\message.py\", line 47, in _add_messages\n",
      "    return func(left, right, **kwargs)\n",
      "  File \"c:\\Users\\KaranJoshi\\Projects\\Document-Processing-Agent\\.venv\\Lib\\site-packages\\langgraph\\graph\\message.py\", line 190, in add_messages\n",
      "    for m in convert_to_messages(right)\n",
      "             ~~~~~~~~~~~~~~~~~~~^^^^^^^\n",
      "  File \"c:\\Users\\KaranJoshi\\Projects\\Document-Processing-Agent\\.venv\\Lib\\site-packages\\langchain_core\\messages\\utils.py\", line 368, in convert_to_messages\n",
      "    return [_convert_to_message(m) for m in messages]\n",
      "            ~~~~~~~~~~~~~~~~~~~^^^\n",
      "  File \"c:\\Users\\KaranJoshi\\Projects\\Document-Processing-Agent\\.venv\\Lib\\site-packages\\langchain_core\\messages\\utils.py\", line 340, in _convert_to_message\n",
      "    raise ValueError(msg) from e\n",
      "ValueError: Message dict must contain 'role' and 'content' keys, got {'role': 'user', 'messages': 'Hey, There!'}\n",
      "For troubleshooting, visit: https://python.langchain.com/docs/troubleshooting/errors/MESSAGE_COERCION_FAILURE \n"
     ]
    }
   ],
   "source": [
    "from langgraph.config import get_stream_writer\n",
    "\n",
    "def chat(user_input, history):\n",
    "    initial_state = State(messages={\"role\": \"user\", \"content\": user_input})\n",
    "    response = \"\"\n",
    "    for message_chunk, metadata in graph.stream(initial_state, stream_mode=\"messages\"):\n",
    "        if message_chunk.content:\n",
    "            response += message_chunk.content\n",
    "            yield response\n",
    "\n",
    "gr.ChatInterface(chat, type=\"messages\").launch()"
   ]
  },
  {
   "cell_type": "code",
   "execution_count": null,
   "id": "8a8b6acf",
   "metadata": {},
   "outputs": [],
   "source": []
  }
 ],
 "metadata": {
  "kernelspec": {
   "display_name": ".venv",
   "language": "python",
   "name": "python3"
  },
  "language_info": {
   "codemirror_mode": {
    "name": "ipython",
    "version": 3
   },
   "file_extension": ".py",
   "mimetype": "text/x-python",
   "name": "python",
   "nbconvert_exporter": "python",
   "pygments_lexer": "ipython3",
   "version": "3.13.6"
  }
 },
 "nbformat": 4,
 "nbformat_minor": 5
}
