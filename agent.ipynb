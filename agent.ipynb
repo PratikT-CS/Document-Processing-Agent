{
 "cells": [
  {
   "cell_type": "code",
   "execution_count": 40,
   "id": "7aa8e994",
   "metadata": {},
   "outputs": [],
   "source": [
    "import os\n",
    "from typing import TypedDict, Annotated, List, Dict\n",
    "import gradio as gr\n",
    "from langgraph.graph import StateGraph, START, END\n",
    "from langgraph.checkpoint.memory import InMemorySaver\n",
    "from langchain.chat_models import init_chat_model\n",
    "from dotenv import load_dotenv\n",
    "from IPython.display import Image, display\n",
    "import fitz"
   ]
  },
  {
   "cell_type": "code",
   "execution_count": 41,
   "id": "5252d19b",
   "metadata": {},
   "outputs": [],
   "source": [
    "memory = InMemorySaver()\n",
    "class State(TypedDict):\n",
    "    \"\"\"\n",
    "    The state for our LangGraph agent.\n",
    "    \"\"\"\n",
    "    # documents: List[str] # List of document identifiers\n",
    "    chat_history: List[Dict[str, str]]\n",
    "    query: str\n",
    "    response: str\n",
    "    document: str\n",
    "    extracted_text: str\n",
    "    # is_inter_document_query: bool"
   ]
  },
  {
   "cell_type": "code",
   "execution_count": 42,
   "id": "c2025913",
   "metadata": {},
   "outputs": [],
   "source": [
    "load_dotenv(override=True)\n",
    "\n",
    "GEMINI_BASE_URL = os.getenv(\"GEMINI_BASE_URL\")\n",
    "GOOGLE_API_KEY = os.getenv(\"GOOGLE_API_KEY\")\n",
    "GEMINI_API_KEY = os.getenv(\"GEMINI_API_KEY\")\n",
    "llm = init_chat_model(\"google_genai:gemini-2.0-flash\")"
   ]
  },
  {
   "cell_type": "code",
   "execution_count": 43,
   "id": "5e5808d9",
   "metadata": {},
   "outputs": [],
   "source": [
    "def llm_generation(state: State):\n",
    "    \"\"\"\n",
    "    Simulates a call to the Bedrock LLM to generate a final response.\n",
    "    \"\"\"\n",
    "    print(\"---NODE : LLM GENERATION---\")\n",
    "    print(state)\n",
    "    print(state[\"extracted_text\"])\n",
    "    response_prompt = state[\"extracted_text\"]\n",
    "    prompt = f\"Based on the following context: '{response_prompt}', answer the user's query: '{state['query']}'\"\n",
    "    # prompt = state[\"query\"]\n",
    "    final_response = llm.invoke(prompt)\n",
    "    \n",
    "    # Update chat history and return the final response\n",
    "    chat_history = state.get(\"chat_history\", [])\n",
    "    chat_history.append({\"user\": state[\"query\"], \"assistant\": final_response})\n",
    "    \n",
    "    return {\"response\": final_response, \"chat_history\": chat_history}\n",
    "\n",
    "def context_generation(state: State):\n",
    "    \"\"\"\n",
    "    Node to extract text from PDF bytes.\n",
    "    \"\"\"\n",
    "    print(\"---NODE: PDF TEXT EXTRACTION---\")\n",
    "    print(state)\n",
    "    \n",
    "    file_bytes = state.get(\"document\")\n",
    "    if not file_bytes:\n",
    "        raise ValueError(\"No file bytes found in state\")\n",
    "    \n",
    "    pdf_text = \"\"\n",
    "    with fitz.open(stream=file_bytes, filetype=\"pdf\") as doc:\n",
    "        for page in doc:\n",
    "            pdf_text += page.get_text()\n",
    "    # print(pdf_text)\n",
    "    # Add extracted text to state\n",
    "    return {\n",
    "        # **state,  # Keep previous state keys\n",
    "        \"extracted_text\": pdf_text,\n",
    "        \"document\": None\n",
    "    }\n",
    "\n",
    "def should_extract(state):\n",
    "    \"\"\"Condition function: returns next node name based on state.\"\"\"\n",
    "    print(state)\n",
    "    if state.get(\"document\"):  # already has text\n",
    "        return \"extraction\"\n",
    "\n",
    "    return \"generation\""
   ]
  },
  {
   "cell_type": "code",
   "execution_count": 44,
   "id": "374b32eb",
   "metadata": {},
   "outputs": [],
   "source": [
    "memory = InMemorySaver()\n",
    "workflow = StateGraph(State)\n",
    "\n",
    "workflow.add_node(\"generation\", llm_generation)\n",
    "workflow.add_node(\"extraction\", context_generation)\n",
    "\n",
    "workflow.add_conditional_edges(\n",
    "    START,\n",
    "    should_extract,\n",
    "    {\n",
    "        \"extraction\": \"extraction\",  # go to extraction if no text\n",
    "        \"generation\": \"generation\"   # skip extraction if already done\n",
    "    }\n",
    ")\n",
    "# workflow.add_edge(\"extraction\", \"generation\")\n",
    "workflow.add_edge(\"generation\", END)\n",
    "\n",
    "graph = workflow.compile(checkpointer=memory)"
   ]
  },
  {
   "cell_type": "code",
   "execution_count": 45,
   "id": "871f98cd",
   "metadata": {},
   "outputs": [
    {
     "data": {
      "image/png": "[encoded data removed]",
      "text/plain": [
       "<IPython.core.display.Image object>"
      ]
     },
     "metadata": {},
     "output_type": "display_data"
    }
   ],
   "source": [
    "display(Image(graph.get_graph().draw_mermaid_png(max_retries=3, retry_delay=5)))"
   ]
  },
  {
   "cell_type": "code",
   "execution_count": 50,
   "id": "1da850e9",
   "metadata": {},
   "outputs": [
    {
     "name": "stderr",
     "output_type": "stream",
     "text": [
      "c:\\Users\\PratikTalaviya\\Crest-Projects\\Document-Processing-Agent\\.venv\\Lib\\site-packages\\gradio\\chat_interface.py:345: UserWarning: The 'tuples' format for chatbot messages is deprecated and will be removed in a future version of Gradio. Please set type='messages' instead, which uses openai-style 'role' and 'content' keys.\n",
      "  self.chatbot = Chatbot(\n"
     ]
    },
    {
     "name": "stdout",
     "output_type": "stream",
     "text": [
      "* Running on local URL:  http://127.0.0.1:7896\n",
      "* To create a public link, set `share=True` in `launch()`.\n"
     ]
    },
    {
     "data": {
      "text/html": [
       "<div><iframe src=\"http://127.0.0.1:7896/\" width=\"100%\" height=\"500\" allow=\"autoplay; camera; microphone; clipboard-read; clipboard-write;\" frameborder=\"0\" allowfullscreen></iframe></div>"
      ],
      "text/plain": [
       "<IPython.core.display.HTML object>"
      ]
     },
     "metadata": {},
     "output_type": "display_data"
    },
    {
     "data": {
      "text/plain": []
     },
     "execution_count": 50,
     "metadata": {},
     "output_type": "execute_result"
    }
   ],
   "source": [
    "# --- Gradio UI Functions ---\n",
    "session_id = \"user-session-1\"\n",
    "config = {\"configurable\": {\"thread_id\": \"1\"}}\n",
    "\n",
    "initial_state = {\n",
    "    \"document\": None,\n",
    "    \"chat_history\": [],\n",
    "    \"query\": \"\",\n",
    "    \"response\": \"\",\n",
    "    \"extracted_text\": \"\"\n",
    "}\n",
    "\n",
    "graph.update_state(config, values=initial_state, task_id=session_id)\n",
    "\n",
    "def process_document(file):\n",
    "    \"\"\"Function to handle document upload and ingestion.\"\"\"\n",
    "    if file is None:\n",
    "        return \"Please upload a document first.\"\n",
    "    \n",
    "    # Read file bytes\n",
    "    with open(file.name, \"rb\") as f:\n",
    "        file_bytes = f.read()\n",
    "    \n",
    "\n",
    "    current_state = graph.get_state(config)\n",
    "    state_dict = dict(current_state.values)\n",
    "\n",
    "    # Now you can modify it\n",
    "    state_dict[\"document\"] = file_bytes\n",
    "    state_dict[\"query\"] = os.path.basename(file.name)\n",
    "\n",
    "    # Invoke the graph with the updated dict\n",
    "    text = graph.invoke(state_dict, config)\n",
    "    # Persist updated state\n",
    "    # graph.update_state(config, values=state_dict, task_id=session_id)\n",
    "    return \"Successfully Extracted and Processed Document\"\n",
    "    # Assuming the graph node returns extracted text or some processed response\n",
    "    # return True\n",
    "\n",
    "def chat_interface(query, history):\n",
    "    \"\"\"Function to handle user chat messages.\"\"\"\n",
    "\n",
    "    current_state = graph.get_state(config)\n",
    "    \n",
    "    state_dict = dict(current_state.values)\n",
    "\n",
    "    # Now you can modify it\n",
    "    state_dict[\"query\"] = query\n",
    "    \n",
    "    graph_state = graph.invoke(state_dict, config)\n",
    "\n",
    "    # graph.update_state(config, values=graph_state, task_id=session_id)\n",
    "    \n",
    "    # Extract the AIMessage object from the \"response\" key\n",
    "    ai_message = graph_state.get(\"response\")\n",
    "\n",
    "    if hasattr(ai_message, \"content\"):\n",
    "        return ai_message.content\n",
    "    elif isinstance(ai_message, dict) and \"content\" in ai_message:\n",
    "        return ai_message[\"content\"]\n",
    "    else:\n",
    "        return str(ai_message)\n",
    "\n",
    "# Create the Gradio interface using gr.Blocks for flexibility\n",
    "with gr.Blocks(title=\"LangGraph Document Agent\") as demo:\n",
    "    gr.Markdown(\"# LangGraph Document Agent\")\n",
    "    gr.Markdown(\"Upload documents to ingest them, then chat with the agent.\")\n",
    "    \n",
    "    with gr.Row():\n",
    "        # file_upload = gr.File(label=\"Upload Document\")\n",
    "        file_upload = gr.File(\n",
    "        label=\"Upload Documents\",\n",
    "        file_count=\"multiple\"\n",
    "        # file_types=[\".pdf\", \".docx\", \".txt\"],  # Optional: restrict file types\n",
    "        )\n",
    "        process_button = gr.Button(\"Process Document\")\n",
    "    \n",
    "    ingestion_output = gr.Textbox(label=\"Document Processing Status\")\n",
    "\n",
    "    process_button.click(\n",
    "        fn=process_document,\n",
    "        inputs=file_upload,\n",
    "        outputs=ingestion_output\n",
    "    )\n",
    "\n",
    "    chatbot = gr.ChatInterface(\n",
    "        fn=chat_interface,\n",
    "        examples=[\"What is the content of document1.txt?\", \"Compare the names across all documents.\", \"How is document2.pdf different from document3.docx?\"]\n",
    "    )\n",
    "\n",
    "# Launch the Gradio app\n",
    "demo.launch()"
   ]
  },
  {
   "cell_type": "code",
   "execution_count": null,
   "id": "a2b2e190",
   "metadata": {},
   "outputs": [],
   "source": []
  }
 ],
 "metadata": {
  "kernelspec": {
   "display_name": ".venv",
   "language": "python",
   "name": "python3"
  },
  "language_info": {
   "codemirror_mode": {
    "name": "ipython",
    "version": 3
   },
   "file_extension": ".py",
   "mimetype": "text/x-python",
   "name": "python",
   "nbconvert_exporter": "python",
   "pygments_lexer": "ipython3",
   "version": "3.13.5"
  }
 },
 "nbformat": 4,
 "nbformat_minor": 5
}
